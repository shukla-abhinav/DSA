{
 "cells": [
  {
   "cell_type": "markdown",
   "id": "ece9361f",
   "metadata": {},
   "source": [
    "# Generic Trees"
   ]
  },
  {
   "cell_type": "code",
   "execution_count": 1,
   "id": "b2a5ae5c",
   "metadata": {},
   "outputs": [],
   "source": [
    "# binary num nodes max 2 -> 0,1,2\n",
    "# generic trees-> no limitation\n",
    "class TreeNode:\n",
    "    def __init__(self,data):\n",
    "        self.data = data\n",
    "        self.childrens = []\n",
    "        "
   ]
  },
  {
   "cell_type": "code",
   "execution_count": 5,
   "id": "8244d8d7",
   "metadata": {},
   "outputs": [],
   "source": [
    "def printTree(root):\n",
    "    if root == None:  #edge case\n",
    "        return \n",
    "    print(root.data, \":\", end=\"\")\n",
    "    for child in root.childrens:\n",
    "        print(child.data, \",\", end=\"\")\n",
    "    print()\n",
    "    \n",
    "    for child in root.childrens:\n",
    "        printTree(child)\n",
    "\n",
    "# A: B,C,D,\n",
    "# B: \n",
    "# C:"
   ]
  },
  {
   "cell_type": "code",
   "execution_count": 6,
   "id": "e4892b25",
   "metadata": {},
   "outputs": [],
   "source": [
    "def treeInput():\n",
    "    print(\"enter root data\")\n",
    "    rootData = int(input())\n",
    "    if rootData == -1:\n",
    "        return\n",
    "    root = TreeNode(rootData)\n",
    "    print(\"Enter number of childrens for\", rootData)\n",
    "    childCount = int(input())\n",
    "    for i in range(childCount):\n",
    "        child = treeInput()\n",
    "        root.childrens.append(child)\n",
    "    return root"
   ]
  },
  {
   "cell_type": "code",
   "execution_count": 7,
   "id": "c4cbfa95",
   "metadata": {},
   "outputs": [
    {
     "name": "stdout",
     "output_type": "stream",
     "text": [
      "enter root data\n",
      "1\n",
      "Enter number of childrens for 1\n",
      "2\n",
      "enter root data\n",
      "2\n",
      "Enter number of childrens for 2\n",
      "0\n",
      "enter root data\n",
      "3\n",
      "Enter number of childrens for 3\n",
      "0\n",
      "Tree printing\n",
      "1 :2 ,3 ,\n",
      "2 :\n",
      "3 :\n"
     ]
    }
   ],
   "source": [
    "root = treeInput()\n",
    "print(\"Tree printing\")\n",
    "printTree(root)"
   ]
  },
  {
   "cell_type": "code",
   "execution_count": 7,
   "id": "c17e9592",
   "metadata": {},
   "outputs": [],
   "source": [
    "# count number of nodes\n",
    "def countNodes(root):\n",
    "    if root == None:\n",
    "        return 0\n",
    "    count = 1\n",
    "    for child in root.childrens:\n",
    "        count += countNodes(child)\n",
    "    return count"
   ]
  },
  {
   "cell_type": "code",
   "execution_count": 8,
   "id": "80b4be4d",
   "metadata": {},
   "outputs": [
    {
     "name": "stdout",
     "output_type": "stream",
     "text": [
      "enter root data\n",
      "0\n",
      "Enter number of childrens for 0\n",
      "3\n",
      "enter root data\n",
      "1\n",
      "Enter number of childrens for 1\n",
      "2\n",
      "enter root data\n",
      "5\n",
      "Enter number of childrens for 5\n",
      "0\n",
      "enter root data\n",
      "6\n",
      "Enter number of childrens for 6\n",
      "0\n",
      "enter root data\n",
      "2\n",
      "Enter number of childrens for 2\n",
      "1\n",
      "enter root data\n",
      "7\n",
      "Enter number of childrens for 7\n",
      "0\n",
      "enter root data\n",
      "3\n",
      "Enter number of childrens for 3\n",
      "1\n",
      "enter root data\n",
      "4\n",
      "Enter number of childrens for 4\n",
      "0\n",
      "8\n"
     ]
    }
   ],
   "source": [
    "root = treeInput()\n",
    "print(countNodes(root))"
   ]
  },
  {
   "cell_type": "code",
   "execution_count": null,
   "id": "70a1c906",
   "metadata": {},
   "outputs": [],
   "source": []
  }
 ],
 "metadata": {
  "kernelspec": {
   "display_name": "Python 3 (ipykernel)",
   "language": "python",
   "name": "python3"
  },
  "language_info": {
   "codemirror_mode": {
    "name": "ipython",
    "version": 3
   },
   "file_extension": ".py",
   "mimetype": "text/x-python",
   "name": "python",
   "nbconvert_exporter": "python",
   "pygments_lexer": "ipython3",
   "version": "3.9.6"
  }
 },
 "nbformat": 4,
 "nbformat_minor": 5
}
