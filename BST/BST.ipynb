{
 "cells": [
  {
   "cell_type": "code",
   "execution_count": 4,
   "id": "540ecc6c",
   "metadata": {},
   "outputs": [],
   "source": [
    "class BST:\n",
    "    def __init__(self, data):\n",
    "        self.data = data\n",
    "        self.left = None\n",
    "        self.right = None\n",
    "\n",
    "def treeInput():\n",
    "    rootData = int(input())\n",
    "    if rootData == -1:\n",
    "        return None\n",
    "    root = BST(rootData)\n",
    "    leftTree = treeInput()\n",
    "    rightTree = treeInput()\n",
    "    root.left = leftTree\n",
    "    root.right = rightTree\n",
    "    return root"
   ]
  },
  {
   "cell_type": "code",
   "execution_count": 5,
   "id": "0251b5ba",
   "metadata": {},
   "outputs": [],
   "source": [
    "def search(root, key):\n",
    "    if root == None:\n",
    "        return None\n",
    "    if root.data == key:\n",
    "        return True\n",
    "    if root.data > key:\n",
    "        return search(reeot.left, key)\n",
    "    else:\n",
    "        return search(root.right, key)\n",
    "    "
   ]
  },
  {
   "cell_type": "code",
   "execution_count": 8,
   "id": "0e021db6",
   "metadata": {},
   "outputs": [
    {
     "name": "stdout",
     "output_type": "stream",
     "text": [
      "8\n",
      "3\n",
      "1\n",
      "-1\n",
      "-1\n",
      "6\n",
      "4\n",
      "-1\n",
      "-1\n",
      "7\n",
      "-1\n",
      "-1\n",
      "10\n",
      "-1\n",
      "14\n",
      "13\n",
      "-1\n",
      "-1\n",
      "-1\n",
      "None\n"
     ]
    }
   ],
   "source": [
    "root = treeInput()\n",
    "print(search(root,140))"
   ]
  },
  {
   "cell_type": "markdown",
   "id": "8a93fb1f",
   "metadata": {},
   "source": [
    "### "
   ]
  }
 ],
 "metadata": {
  "kernelspec": {
   "display_name": "Python 3 (ipykernel)",
   "language": "python",
   "name": "python3"
  },
  "language_info": {
   "codemirror_mode": {
    "name": "ipython",
    "version": 3
   },
   "file_extension": ".py",
   "mimetype": "text/x-python",
   "name": "python",
   "nbconvert_exporter": "python",
   "pygments_lexer": "ipython3",
   "version": "3.9.6"
  }
 },
 "nbformat": 4,
 "nbformat_minor": 5
}
